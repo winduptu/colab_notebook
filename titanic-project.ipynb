{
 "cells": [
  {
   "cell_type": "code",
   "execution_count": 1,
   "id": "bbea0f2f",
   "metadata": {
    "_cell_guid": "b1076dfc-b9ad-4769-8c92-a6c4dae69d19",
    "_uuid": "8f2839f25d086af736a60e9eeb907d3b93b6e0e5",
    "execution": {
     "iopub.execute_input": "2022-12-29T13:51:11.466886Z",
     "iopub.status.busy": "2022-12-29T13:51:11.466093Z",
     "iopub.status.idle": "2022-12-29T13:51:11.484318Z",
     "shell.execute_reply": "2022-12-29T13:51:11.483478Z"
    },
    "papermill": {
     "duration": 0.035595,
     "end_time": "2022-12-29T13:51:11.487250",
     "exception": false,
     "start_time": "2022-12-29T13:51:11.451655",
     "status": "completed"
    },
    "tags": []
   },
   "outputs": [
    {
     "name": "stdout",
     "output_type": "stream",
     "text": [
      "/kaggle/input/titanic-competition/titanic/gender_submission.csv\n",
      "/kaggle/input/titanic/train.csv\n",
      "/kaggle/input/titanic/test.csv\n",
      "/kaggle/input/titanic/gender_submission.csv\n"
     ]
    }
   ],
   "source": [
    "# This Python 3 environment comes with many helpful analytics libraries installed\n",
    "# It is defined by the kaggle/python Docker image: https://github.com/kaggle/docker-python\n",
    "# For example, here's several helpful packages to load\n",
    "\n",
    "import numpy as np # linear algebra\n",
    "import pandas as pd # data processing, CSV file I/O (e.g. pd.read_csv)\n",
    "\n",
    "# Input data files are available in the read-only \"../input/\" directory\n",
    "# For example, running this (by clicking run or pressing Shift+Enter) will list all files under the input directory\n",
    "\n",
    "import os\n",
    "for dirname, _, filenames in os.walk('/kaggle/input'):\n",
    "    for filename in filenames:\n",
    "        print(os.path.join(dirname, filename))\n",
    "\n",
    "# You can write up to 20GB to the current directory (/kaggle/working/) that gets preserved as output when you create a version using \"Save & Run All\" \n",
    "# You can also write temporary files to /kaggle/temp/, but they won't be saved outside of the current session"
   ]
  },
  {
   "cell_type": "markdown",
   "id": "b849c084",
   "metadata": {
    "papermill": {
     "duration": 0.009564,
     "end_time": "2022-12-29T13:51:11.507207",
     "exception": false,
     "start_time": "2022-12-29T13:51:11.497643",
     "status": "completed"
    },
    "tags": []
   },
   "source": [
    "**IMPORT DATA**"
   ]
  },
  {
   "cell_type": "code",
   "execution_count": 2,
   "id": "4aeee4f4",
   "metadata": {
    "execution": {
     "iopub.execute_input": "2022-12-29T13:51:11.530419Z",
     "iopub.status.busy": "2022-12-29T13:51:11.529965Z",
     "iopub.status.idle": "2022-12-29T13:51:11.551015Z",
     "shell.execute_reply": "2022-12-29T13:51:11.549707Z"
    },
    "papermill": {
     "duration": 0.036486,
     "end_time": "2022-12-29T13:51:11.553585",
     "exception": false,
     "start_time": "2022-12-29T13:51:11.517099",
     "status": "completed"
    },
    "tags": []
   },
   "outputs": [],
   "source": [
    "df = pd.read_csv('../input/titanic/train.csv')"
   ]
  },
  {
   "cell_type": "code",
   "execution_count": 3,
   "id": "85109844",
   "metadata": {
    "execution": {
     "iopub.execute_input": "2022-12-29T13:51:11.576347Z",
     "iopub.status.busy": "2022-12-29T13:51:11.575900Z",
     "iopub.status.idle": "2022-12-29T13:51:11.616503Z",
     "shell.execute_reply": "2022-12-29T13:51:11.615318Z"
    },
    "papermill": {
     "duration": 0.054734,
     "end_time": "2022-12-29T13:51:11.618941",
     "exception": false,
     "start_time": "2022-12-29T13:51:11.564207",
     "status": "completed"
    },
    "tags": []
   },
   "outputs": [
    {
     "data": {
      "text/html": [
       "<div>\n",
       "<style scoped>\n",
       "    .dataframe tbody tr th:only-of-type {\n",
       "        vertical-align: middle;\n",
       "    }\n",
       "\n",
       "    .dataframe tbody tr th {\n",
       "        vertical-align: top;\n",
       "    }\n",
       "\n",
       "    .dataframe thead th {\n",
       "        text-align: right;\n",
       "    }\n",
       "</style>\n",
       "<table border=\"1\" class=\"dataframe\">\n",
       "  <thead>\n",
       "    <tr style=\"text-align: right;\">\n",
       "      <th></th>\n",
       "      <th>PassengerId</th>\n",
       "      <th>Survived</th>\n",
       "      <th>Pclass</th>\n",
       "      <th>Name</th>\n",
       "      <th>Sex</th>\n",
       "      <th>Age</th>\n",
       "      <th>SibSp</th>\n",
       "      <th>Parch</th>\n",
       "      <th>Ticket</th>\n",
       "      <th>Fare</th>\n",
       "      <th>Cabin</th>\n",
       "      <th>Embarked</th>\n",
       "    </tr>\n",
       "  </thead>\n",
       "  <tbody>\n",
       "    <tr>\n",
       "      <th>0</th>\n",
       "      <td>1</td>\n",
       "      <td>0</td>\n",
       "      <td>3</td>\n",
       "      <td>Braund, Mr. Owen Harris</td>\n",
       "      <td>male</td>\n",
       "      <td>22.0</td>\n",
       "      <td>1</td>\n",
       "      <td>0</td>\n",
       "      <td>A/5 21171</td>\n",
       "      <td>7.2500</td>\n",
       "      <td>NaN</td>\n",
       "      <td>S</td>\n",
       "    </tr>\n",
       "    <tr>\n",
       "      <th>1</th>\n",
       "      <td>2</td>\n",
       "      <td>1</td>\n",
       "      <td>1</td>\n",
       "      <td>Cumings, Mrs. John Bradley (Florence Briggs Th...</td>\n",
       "      <td>female</td>\n",
       "      <td>38.0</td>\n",
       "      <td>1</td>\n",
       "      <td>0</td>\n",
       "      <td>PC 17599</td>\n",
       "      <td>71.2833</td>\n",
       "      <td>C85</td>\n",
       "      <td>C</td>\n",
       "    </tr>\n",
       "    <tr>\n",
       "      <th>2</th>\n",
       "      <td>3</td>\n",
       "      <td>1</td>\n",
       "      <td>3</td>\n",
       "      <td>Heikkinen, Miss. Laina</td>\n",
       "      <td>female</td>\n",
       "      <td>26.0</td>\n",
       "      <td>0</td>\n",
       "      <td>0</td>\n",
       "      <td>STON/O2. 3101282</td>\n",
       "      <td>7.9250</td>\n",
       "      <td>NaN</td>\n",
       "      <td>S</td>\n",
       "    </tr>\n",
       "    <tr>\n",
       "      <th>3</th>\n",
       "      <td>4</td>\n",
       "      <td>1</td>\n",
       "      <td>1</td>\n",
       "      <td>Futrelle, Mrs. Jacques Heath (Lily May Peel)</td>\n",
       "      <td>female</td>\n",
       "      <td>35.0</td>\n",
       "      <td>1</td>\n",
       "      <td>0</td>\n",
       "      <td>113803</td>\n",
       "      <td>53.1000</td>\n",
       "      <td>C123</td>\n",
       "      <td>S</td>\n",
       "    </tr>\n",
       "    <tr>\n",
       "      <th>4</th>\n",
       "      <td>5</td>\n",
       "      <td>0</td>\n",
       "      <td>3</td>\n",
       "      <td>Allen, Mr. William Henry</td>\n",
       "      <td>male</td>\n",
       "      <td>35.0</td>\n",
       "      <td>0</td>\n",
       "      <td>0</td>\n",
       "      <td>373450</td>\n",
       "      <td>8.0500</td>\n",
       "      <td>NaN</td>\n",
       "      <td>S</td>\n",
       "    </tr>\n",
       "    <tr>\n",
       "      <th>...</th>\n",
       "      <td>...</td>\n",
       "      <td>...</td>\n",
       "      <td>...</td>\n",
       "      <td>...</td>\n",
       "      <td>...</td>\n",
       "      <td>...</td>\n",
       "      <td>...</td>\n",
       "      <td>...</td>\n",
       "      <td>...</td>\n",
       "      <td>...</td>\n",
       "      <td>...</td>\n",
       "      <td>...</td>\n",
       "    </tr>\n",
       "    <tr>\n",
       "      <th>886</th>\n",
       "      <td>887</td>\n",
       "      <td>0</td>\n",
       "      <td>2</td>\n",
       "      <td>Montvila, Rev. Juozas</td>\n",
       "      <td>male</td>\n",
       "      <td>27.0</td>\n",
       "      <td>0</td>\n",
       "      <td>0</td>\n",
       "      <td>211536</td>\n",
       "      <td>13.0000</td>\n",
       "      <td>NaN</td>\n",
       "      <td>S</td>\n",
       "    </tr>\n",
       "    <tr>\n",
       "      <th>887</th>\n",
       "      <td>888</td>\n",
       "      <td>1</td>\n",
       "      <td>1</td>\n",
       "      <td>Graham, Miss. Margaret Edith</td>\n",
       "      <td>female</td>\n",
       "      <td>19.0</td>\n",
       "      <td>0</td>\n",
       "      <td>0</td>\n",
       "      <td>112053</td>\n",
       "      <td>30.0000</td>\n",
       "      <td>B42</td>\n",
       "      <td>S</td>\n",
       "    </tr>\n",
       "    <tr>\n",
       "      <th>888</th>\n",
       "      <td>889</td>\n",
       "      <td>0</td>\n",
       "      <td>3</td>\n",
       "      <td>Johnston, Miss. Catherine Helen \"Carrie\"</td>\n",
       "      <td>female</td>\n",
       "      <td>NaN</td>\n",
       "      <td>1</td>\n",
       "      <td>2</td>\n",
       "      <td>W./C. 6607</td>\n",
       "      <td>23.4500</td>\n",
       "      <td>NaN</td>\n",
       "      <td>S</td>\n",
       "    </tr>\n",
       "    <tr>\n",
       "      <th>889</th>\n",
       "      <td>890</td>\n",
       "      <td>1</td>\n",
       "      <td>1</td>\n",
       "      <td>Behr, Mr. Karl Howell</td>\n",
       "      <td>male</td>\n",
       "      <td>26.0</td>\n",
       "      <td>0</td>\n",
       "      <td>0</td>\n",
       "      <td>111369</td>\n",
       "      <td>30.0000</td>\n",
       "      <td>C148</td>\n",
       "      <td>C</td>\n",
       "    </tr>\n",
       "    <tr>\n",
       "      <th>890</th>\n",
       "      <td>891</td>\n",
       "      <td>0</td>\n",
       "      <td>3</td>\n",
       "      <td>Dooley, Mr. Patrick</td>\n",
       "      <td>male</td>\n",
       "      <td>32.0</td>\n",
       "      <td>0</td>\n",
       "      <td>0</td>\n",
       "      <td>370376</td>\n",
       "      <td>7.7500</td>\n",
       "      <td>NaN</td>\n",
       "      <td>Q</td>\n",
       "    </tr>\n",
       "  </tbody>\n",
       "</table>\n",
       "<p>891 rows × 12 columns</p>\n",
       "</div>"
      ],
      "text/plain": [
       "     PassengerId  Survived  Pclass  \\\n",
       "0              1         0       3   \n",
       "1              2         1       1   \n",
       "2              3         1       3   \n",
       "3              4         1       1   \n",
       "4              5         0       3   \n",
       "..           ...       ...     ...   \n",
       "886          887         0       2   \n",
       "887          888         1       1   \n",
       "888          889         0       3   \n",
       "889          890         1       1   \n",
       "890          891         0       3   \n",
       "\n",
       "                                                  Name     Sex   Age  SibSp  \\\n",
       "0                              Braund, Mr. Owen Harris    male  22.0      1   \n",
       "1    Cumings, Mrs. John Bradley (Florence Briggs Th...  female  38.0      1   \n",
       "2                               Heikkinen, Miss. Laina  female  26.0      0   \n",
       "3         Futrelle, Mrs. Jacques Heath (Lily May Peel)  female  35.0      1   \n",
       "4                             Allen, Mr. William Henry    male  35.0      0   \n",
       "..                                                 ...     ...   ...    ...   \n",
       "886                              Montvila, Rev. Juozas    male  27.0      0   \n",
       "887                       Graham, Miss. Margaret Edith  female  19.0      0   \n",
       "888           Johnston, Miss. Catherine Helen \"Carrie\"  female   NaN      1   \n",
       "889                              Behr, Mr. Karl Howell    male  26.0      0   \n",
       "890                                Dooley, Mr. Patrick    male  32.0      0   \n",
       "\n",
       "     Parch            Ticket     Fare Cabin Embarked  \n",
       "0        0         A/5 21171   7.2500   NaN        S  \n",
       "1        0          PC 17599  71.2833   C85        C  \n",
       "2        0  STON/O2. 3101282   7.9250   NaN        S  \n",
       "3        0            113803  53.1000  C123        S  \n",
       "4        0            373450   8.0500   NaN        S  \n",
       "..     ...               ...      ...   ...      ...  \n",
       "886      0            211536  13.0000   NaN        S  \n",
       "887      0            112053  30.0000   B42        S  \n",
       "888      2        W./C. 6607  23.4500   NaN        S  \n",
       "889      0            111369  30.0000  C148        C  \n",
       "890      0            370376   7.7500   NaN        Q  \n",
       "\n",
       "[891 rows x 12 columns]"
      ]
     },
     "execution_count": 3,
     "metadata": {},
     "output_type": "execute_result"
    }
   ],
   "source": [
    "df\n"
   ]
  },
  {
   "cell_type": "code",
   "execution_count": 4,
   "id": "6d9ed3b7",
   "metadata": {
    "execution": {
     "iopub.execute_input": "2022-12-29T13:51:11.641973Z",
     "iopub.status.busy": "2022-12-29T13:51:11.641585Z",
     "iopub.status.idle": "2022-12-29T13:51:11.687347Z",
     "shell.execute_reply": "2022-12-29T13:51:11.686111Z"
    },
    "papermill": {
     "duration": 0.060509,
     "end_time": "2022-12-29T13:51:11.690163",
     "exception": false,
     "start_time": "2022-12-29T13:51:11.629654",
     "status": "completed"
    },
    "tags": []
   },
   "outputs": [
    {
     "data": {
      "text/html": [
       "<div>\n",
       "<style scoped>\n",
       "    .dataframe tbody tr th:only-of-type {\n",
       "        vertical-align: middle;\n",
       "    }\n",
       "\n",
       "    .dataframe tbody tr th {\n",
       "        vertical-align: top;\n",
       "    }\n",
       "\n",
       "    .dataframe thead th {\n",
       "        text-align: right;\n",
       "    }\n",
       "</style>\n",
       "<table border=\"1\" class=\"dataframe\">\n",
       "  <thead>\n",
       "    <tr style=\"text-align: right;\">\n",
       "      <th></th>\n",
       "      <th>PassengerId</th>\n",
       "      <th>Survived</th>\n",
       "      <th>Pclass</th>\n",
       "      <th>Age</th>\n",
       "      <th>SibSp</th>\n",
       "      <th>Parch</th>\n",
       "      <th>Fare</th>\n",
       "    </tr>\n",
       "  </thead>\n",
       "  <tbody>\n",
       "    <tr>\n",
       "      <th>count</th>\n",
       "      <td>891.000000</td>\n",
       "      <td>891.000000</td>\n",
       "      <td>891.000000</td>\n",
       "      <td>714.000000</td>\n",
       "      <td>891.000000</td>\n",
       "      <td>891.000000</td>\n",
       "      <td>891.000000</td>\n",
       "    </tr>\n",
       "    <tr>\n",
       "      <th>mean</th>\n",
       "      <td>446.000000</td>\n",
       "      <td>0.383838</td>\n",
       "      <td>2.308642</td>\n",
       "      <td>29.699118</td>\n",
       "      <td>0.523008</td>\n",
       "      <td>0.381594</td>\n",
       "      <td>32.204208</td>\n",
       "    </tr>\n",
       "    <tr>\n",
       "      <th>std</th>\n",
       "      <td>257.353842</td>\n",
       "      <td>0.486592</td>\n",
       "      <td>0.836071</td>\n",
       "      <td>14.526497</td>\n",
       "      <td>1.102743</td>\n",
       "      <td>0.806057</td>\n",
       "      <td>49.693429</td>\n",
       "    </tr>\n",
       "    <tr>\n",
       "      <th>min</th>\n",
       "      <td>1.000000</td>\n",
       "      <td>0.000000</td>\n",
       "      <td>1.000000</td>\n",
       "      <td>0.420000</td>\n",
       "      <td>0.000000</td>\n",
       "      <td>0.000000</td>\n",
       "      <td>0.000000</td>\n",
       "    </tr>\n",
       "    <tr>\n",
       "      <th>25%</th>\n",
       "      <td>223.500000</td>\n",
       "      <td>0.000000</td>\n",
       "      <td>2.000000</td>\n",
       "      <td>20.125000</td>\n",
       "      <td>0.000000</td>\n",
       "      <td>0.000000</td>\n",
       "      <td>7.910400</td>\n",
       "    </tr>\n",
       "    <tr>\n",
       "      <th>50%</th>\n",
       "      <td>446.000000</td>\n",
       "      <td>0.000000</td>\n",
       "      <td>3.000000</td>\n",
       "      <td>28.000000</td>\n",
       "      <td>0.000000</td>\n",
       "      <td>0.000000</td>\n",
       "      <td>14.454200</td>\n",
       "    </tr>\n",
       "    <tr>\n",
       "      <th>75%</th>\n",
       "      <td>668.500000</td>\n",
       "      <td>1.000000</td>\n",
       "      <td>3.000000</td>\n",
       "      <td>38.000000</td>\n",
       "      <td>1.000000</td>\n",
       "      <td>0.000000</td>\n",
       "      <td>31.000000</td>\n",
       "    </tr>\n",
       "    <tr>\n",
       "      <th>max</th>\n",
       "      <td>891.000000</td>\n",
       "      <td>1.000000</td>\n",
       "      <td>3.000000</td>\n",
       "      <td>80.000000</td>\n",
       "      <td>8.000000</td>\n",
       "      <td>6.000000</td>\n",
       "      <td>512.329200</td>\n",
       "    </tr>\n",
       "  </tbody>\n",
       "</table>\n",
       "</div>"
      ],
      "text/plain": [
       "       PassengerId    Survived      Pclass         Age       SibSp  \\\n",
       "count   891.000000  891.000000  891.000000  714.000000  891.000000   \n",
       "mean    446.000000    0.383838    2.308642   29.699118    0.523008   \n",
       "std     257.353842    0.486592    0.836071   14.526497    1.102743   \n",
       "min       1.000000    0.000000    1.000000    0.420000    0.000000   \n",
       "25%     223.500000    0.000000    2.000000   20.125000    0.000000   \n",
       "50%     446.000000    0.000000    3.000000   28.000000    0.000000   \n",
       "75%     668.500000    1.000000    3.000000   38.000000    1.000000   \n",
       "max     891.000000    1.000000    3.000000   80.000000    8.000000   \n",
       "\n",
       "            Parch        Fare  \n",
       "count  891.000000  891.000000  \n",
       "mean     0.381594   32.204208  \n",
       "std      0.806057   49.693429  \n",
       "min      0.000000    0.000000  \n",
       "25%      0.000000    7.910400  \n",
       "50%      0.000000   14.454200  \n",
       "75%      0.000000   31.000000  \n",
       "max      6.000000  512.329200  "
      ]
     },
     "execution_count": 4,
     "metadata": {},
     "output_type": "execute_result"
    }
   ],
   "source": [
    "df.describe()"
   ]
  },
  {
   "cell_type": "code",
   "execution_count": 5,
   "id": "7a99f21d",
   "metadata": {
    "execution": {
     "iopub.execute_input": "2022-12-29T13:51:11.713972Z",
     "iopub.status.busy": "2022-12-29T13:51:11.713058Z",
     "iopub.status.idle": "2022-12-29T13:51:13.312077Z",
     "shell.execute_reply": "2022-12-29T13:51:13.310516Z"
    },
    "papermill": {
     "duration": 1.614021,
     "end_time": "2022-12-29T13:51:13.314926",
     "exception": false,
     "start_time": "2022-12-29T13:51:11.700905",
     "status": "completed"
    },
    "tags": []
   },
   "outputs": [
    {
     "data": {
      "text/plain": [
       "<AxesSubplot:>"
      ]
     },
     "execution_count": 5,
     "metadata": {},
     "output_type": "execute_result"
    },
    {
     "data": {
      "image/png": "[encoded data removed]",
      "text/plain": [
       "<Figure size 432x288 with 2 Axes>"
      ]
     },
     "metadata": {
      "needs_background": "light"
     },
     "output_type": "display_data"
    }
   ],
   "source": [
    "import seaborn as sns\n",
    "sns.heatmap(df.corr(), cmap='YlGnBu')"
   ]
  },
  {
   "cell_type": "code",
   "execution_count": 6,
   "id": "5c58a606",
   "metadata": {
    "execution": {
     "iopub.execute_input": "2022-12-29T13:51:13.339949Z",
     "iopub.status.busy": "2022-12-29T13:51:13.339527Z",
     "iopub.status.idle": "2022-12-29T13:51:13.612038Z",
     "shell.execute_reply": "2022-12-29T13:51:13.610732Z"
    },
    "papermill": {
     "duration": 0.288129,
     "end_time": "2022-12-29T13:51:13.614856",
     "exception": false,
     "start_time": "2022-12-29T13:51:13.326727",
     "status": "completed"
    },
    "tags": []
   },
   "outputs": [
    {
     "data": {
      "text/plain": [
       "<AxesSubplot:>"
      ]
     },
     "execution_count": 6,
     "metadata": {},
     "output_type": "execute_result"
    },
    {
     "data": {
      "image/png": "[encoded data removed]",
      "text/plain": [
       "<Figure size 432x288 with 1 Axes>"
      ]
     },
     "metadata": {
      "needs_background": "light"
     },
     "output_type": "display_data"
    }
   ],
   "source": [
    "df['Survived'].hist()\n",
    "df['Pclass'].hist()"
   ]
  },
  {
   "cell_type": "code",
   "execution_count": 7,
   "id": "1d96d8a2",
   "metadata": {
    "execution": {
     "iopub.execute_input": "2022-12-29T13:51:13.639518Z",
     "iopub.status.busy": "2022-12-29T13:51:13.639098Z",
     "iopub.status.idle": "2022-12-29T13:51:13.894173Z",
     "shell.execute_reply": "2022-12-29T13:51:13.890469Z"
    },
    "papermill": {
     "duration": 0.273193,
     "end_time": "2022-12-29T13:51:13.899699",
     "exception": false,
     "start_time": "2022-12-29T13:51:13.626506",
     "status": "completed"
    },
    "tags": []
   },
   "outputs": [
    {
     "data": {
      "text/plain": [
       "<AxesSubplot:>"
      ]
     },
     "execution_count": 7,
     "metadata": {},
     "output_type": "execute_result"
    },
    {
     "data": {
      "image/png": "[encoded data removed]",
      "text/plain": [
       "<Figure size 432x288 with 1 Axes>"
      ]
     },
     "metadata": {
      "needs_background": "light"
     },
     "output_type": "display_data"
    }
   ],
   "source": [
    "df['Fare'].hist()"
   ]
  },
  {
   "cell_type": "code",
   "execution_count": 8,
   "id": "4c1d1581",
   "metadata": {
    "execution": {
     "iopub.execute_input": "2022-12-29T13:51:13.935462Z",
     "iopub.status.busy": "2022-12-29T13:51:13.934293Z",
     "iopub.status.idle": "2022-12-29T13:51:14.182348Z",
     "shell.execute_reply": "2022-12-29T13:51:14.181339Z"
    },
    "papermill": {
     "duration": 0.270178,
     "end_time": "2022-12-29T13:51:14.184923",
     "exception": false,
     "start_time": "2022-12-29T13:51:13.914745",
     "status": "completed"
    },
    "tags": []
   },
   "outputs": [
    {
     "data": {
      "text/plain": [
       "<AxesSubplot:>"
      ]
     },
     "execution_count": 8,
     "metadata": {},
     "output_type": "execute_result"
    },
    {
     "data": {
      "image/png": "[encoded data removed]",
      "text/plain": [
       "<Figure size 432x288 with 1 Axes>"
      ]
     },
     "metadata": {
      "needs_background": "light"
     },
     "output_type": "display_data"
    }
   ],
   "source": [
    "import matplotlib.pyplot as plt\n",
    "plt.subplot(1,2,2)\n",
    "df['Survived'].hist()\n",
    "df['Pclass'].hist()"
   ]
  },
  {
   "cell_type": "code",
   "execution_count": 9,
   "id": "4960e3ce",
   "metadata": {
    "execution": {
     "iopub.execute_input": "2022-12-29T13:51:14.212239Z",
     "iopub.status.busy": "2022-12-29T13:51:14.211017Z",
     "iopub.status.idle": "2022-12-29T13:51:14.454763Z",
     "shell.execute_reply": "2022-12-29T13:51:14.453501Z"
    },
    "papermill": {
     "duration": 0.260363,
     "end_time": "2022-12-29T13:51:14.457753",
     "exception": false,
     "start_time": "2022-12-29T13:51:14.197390",
     "status": "completed"
    },
    "tags": []
   },
   "outputs": [
    {
     "data": {
      "text/plain": [
       "<AxesSubplot:>"
      ]
     },
     "execution_count": 9,
     "metadata": {},
     "output_type": "execute_result"
    },
    {
     "data": {
      "image/png": "[encoded data removed]",
      "text/plain": [
       "<Figure size 432x288 with 1 Axes>"
      ]
     },
     "metadata": {
      "needs_background": "light"
     },
     "output_type": "display_data"
    }
   ],
   "source": [
    "plt.subplot(1,2,2)\n",
    "df['Survived'].hist()\n",
    "df['Pclass'].hist()"
   ]
  },
  {
   "cell_type": "code",
   "execution_count": 10,
   "id": "17cc176b",
   "metadata": {
    "execution": {
     "iopub.execute_input": "2022-12-29T13:51:14.484709Z",
     "iopub.status.busy": "2022-12-29T13:51:14.484217Z",
     "iopub.status.idle": "2022-12-29T13:51:14.707876Z",
     "shell.execute_reply": "2022-12-29T13:51:14.706865Z"
    },
    "papermill": {
     "duration": 0.240353,
     "end_time": "2022-12-29T13:51:14.710489",
     "exception": false,
     "start_time": "2022-12-29T13:51:14.470136",
     "status": "completed"
    },
    "tags": []
   },
   "outputs": [],
   "source": [
    "from sklearn.model_selection import StratifiedShuffleSplit"
   ]
  },
  {
   "cell_type": "code",
   "execution_count": 11,
   "id": "7d7e5b6b",
   "metadata": {
    "execution": {
     "iopub.execute_input": "2022-12-29T13:51:14.736509Z",
     "iopub.status.busy": "2022-12-29T13:51:14.736107Z",
     "iopub.status.idle": "2022-12-29T13:51:14.751214Z",
     "shell.execute_reply": "2022-12-29T13:51:14.750115Z"
    },
    "papermill": {
     "duration": 0.03123,
     "end_time": "2022-12-29T13:51:14.753863",
     "exception": false,
     "start_time": "2022-12-29T13:51:14.722633",
     "status": "completed"
    },
    "tags": []
   },
   "outputs": [],
   "source": [
    "split = StratifiedShuffleSplit(n_splits=1, train_size=0.2)\n",
    "for train_indices, test_indices in split.split(df,df[['Survived', 'Pclass', 'Sex']]):\n",
    "    strat_train_set = df.loc[train_indices]\n",
    "    strat_test_set = df.loc[test_indices]"
   ]
  },
  {
   "cell_type": "code",
   "execution_count": 12,
   "id": "e7359281",
   "metadata": {
    "execution": {
     "iopub.execute_input": "2022-12-29T13:51:14.780558Z",
     "iopub.status.busy": "2022-12-29T13:51:14.780123Z",
     "iopub.status.idle": "2022-12-29T13:51:15.046191Z",
     "shell.execute_reply": "2022-12-29T13:51:15.044888Z"
    },
    "papermill": {
     "duration": 0.283255,
     "end_time": "2022-12-29T13:51:15.049186",
     "exception": false,
     "start_time": "2022-12-29T13:51:14.765931",
     "status": "completed"
    },
    "tags": []
   },
   "outputs": [
    {
     "data": {
      "text/plain": [
       "<AxesSubplot:>"
      ]
     },
     "execution_count": 12,
     "metadata": {},
     "output_type": "execute_result"
    },
    {
     "data": {
      "image/png": "[encoded data removed]",
      "text/plain": [
       "<Figure size 432x288 with 1 Axes>"
      ]
     },
     "metadata": {
      "needs_background": "light"
     },
     "output_type": "display_data"
    }
   ],
   "source": [
    "strat_train_set['Survived'].hist()\n",
    "strat_train_set['Pclass'].hist()"
   ]
  },
  {
   "cell_type": "code",
   "execution_count": 13,
   "id": "7c0d330e",
   "metadata": {
    "execution": {
     "iopub.execute_input": "2022-12-29T13:51:15.076478Z",
     "iopub.status.busy": "2022-12-29T13:51:15.075986Z",
     "iopub.status.idle": "2022-12-29T13:51:15.336319Z",
     "shell.execute_reply": "2022-12-29T13:51:15.335016Z"
    },
    "papermill": {
     "duration": 0.277109,
     "end_time": "2022-12-29T13:51:15.339068",
     "exception": false,
     "start_time": "2022-12-29T13:51:15.061959",
     "status": "completed"
    },
    "tags": []
   },
   "outputs": [
    {
     "data": {
      "text/plain": [
       "<AxesSubplot:>"
      ]
     },
     "execution_count": 13,
     "metadata": {},
     "output_type": "execute_result"
    },
    {
     "data": {
      "image/png": "[encoded data removed]",
      "text/plain": [
       "<Figure size 432x288 with 1 Axes>"
      ]
     },
     "metadata": {
      "needs_background": "light"
     },
     "output_type": "display_data"
    }
   ],
   "source": [
    "strat_test_set['Survived'].hist()\n",
    "strat_test_set['Pclass'].hist()"
   ]
  },
  {
   "cell_type": "code",
   "execution_count": 14,
   "id": "2a27931e",
   "metadata": {
    "execution": {
     "iopub.execute_input": "2022-12-29T13:51:15.367315Z",
     "iopub.status.busy": "2022-12-29T13:51:15.366885Z",
     "iopub.status.idle": "2022-12-29T13:51:15.385349Z",
     "shell.execute_reply": "2022-12-29T13:51:15.383655Z"
    },
    "papermill": {
     "duration": 0.036653,
     "end_time": "2022-12-29T13:51:15.389113",
     "exception": false,
     "start_time": "2022-12-29T13:51:15.352460",
     "status": "completed"
    },
    "tags": []
   },
   "outputs": [
    {
     "name": "stdout",
     "output_type": "stream",
     "text": [
      "<class 'pandas.core.frame.DataFrame'>\n",
      "Int64Index: 713 entries, 576 to 380\n",
      "Data columns (total 12 columns):\n",
      " #   Column       Non-Null Count  Dtype  \n",
      "---  ------       --------------  -----  \n",
      " 0   PassengerId  713 non-null    int64  \n",
      " 1   Survived     713 non-null    int64  \n",
      " 2   Pclass       713 non-null    int64  \n",
      " 3   Name         713 non-null    object \n",
      " 4   Sex          713 non-null    object \n",
      " 5   Age          569 non-null    float64\n",
      " 6   SibSp        713 non-null    int64  \n",
      " 7   Parch        713 non-null    int64  \n",
      " 8   Ticket       713 non-null    object \n",
      " 9   Fare         713 non-null    float64\n",
      " 10  Cabin        160 non-null    object \n",
      " 11  Embarked     713 non-null    object \n",
      "dtypes: float64(2), int64(5), object(5)\n",
      "memory usage: 72.4+ KB\n"
     ]
    }
   ],
   "source": [
    "strat_test_set.info()"
   ]
  },
  {
   "cell_type": "markdown",
   "id": "ca16b92c",
   "metadata": {
    "papermill": {
     "duration": 0.01243,
     "end_time": "2022-12-29T13:51:15.415193",
     "exception": false,
     "start_time": "2022-12-29T13:51:15.402763",
     "status": "completed"
    },
    "tags": []
   },
   "source": [
    "**FEATURE EXTRACTION**"
   ]
  },
  {
   "cell_type": "code",
   "execution_count": 15,
   "id": "5cf835b9",
   "metadata": {
    "execution": {
     "iopub.execute_input": "2022-12-29T13:51:15.442482Z",
     "iopub.status.busy": "2022-12-29T13:51:15.442069Z",
     "iopub.status.idle": "2022-12-29T13:51:15.597156Z",
     "shell.execute_reply": "2022-12-29T13:51:15.595830Z"
    },
    "papermill": {
     "duration": 0.171803,
     "end_time": "2022-12-29T13:51:15.599853",
     "exception": false,
     "start_time": "2022-12-29T13:51:15.428050",
     "status": "completed"
    },
    "tags": []
   },
   "outputs": [],
   "source": [
    "from sklearn.base import BaseEstimator, TransformerMixin\n",
    "from sklearn.impute import SimpleImputer\n",
    "\n",
    "class AgeImputer(BaseEstimator, TransformerMixin):\n",
    "    \n",
    "    def fit(self, X, y=None):\n",
    "        return self\n",
    "    def transform(self, X):\n",
    "        imputer = SimpleImputer(strategy = \"mean\")\n",
    "        X['Age'] = imputer.fit_transform(X[['Age']])\n",
    "        return X"
   ]
  },
  {
   "cell_type": "code",
   "execution_count": 16,
   "id": "f6b1d031",
   "metadata": {
    "execution": {
     "iopub.execute_input": "2022-12-29T13:51:15.627219Z",
     "iopub.status.busy": "2022-12-29T13:51:15.626823Z",
     "iopub.status.idle": "2022-12-29T13:51:15.636038Z",
     "shell.execute_reply": "2022-12-29T13:51:15.634654Z"
    },
    "papermill": {
     "duration": 0.026131,
     "end_time": "2022-12-29T13:51:15.638927",
     "exception": false,
     "start_time": "2022-12-29T13:51:15.612796",
     "status": "completed"
    },
    "tags": []
   },
   "outputs": [],
   "source": [
    "from sklearn.preprocessing import OneHotEncoder\n",
    "class FeatureEncoder(BaseEstimator, TransformerMixin):\n",
    "    \n",
    "    def fit(self,X,y=None):\n",
    "        return self\n",
    "    def transform(self,X):\n",
    "        encoder = OneHotEncoder()\n",
    "        matrix = encoder.fit_transform(X[['Embarked']]).toarray()\n",
    "        \n",
    "        column_names = ['C', 'S' , 'Q', 'N']\n",
    "        \n",
    "        for i in range(len(matrix.T)):\n",
    "            X[column_names[i]]= matrix.T[i]\n",
    "            \n",
    "        matrix = encoder.fit_transform(X[['Sex']]).toarray()\n",
    "        \n",
    "        column_names = ['Female', 'Male']\n",
    "        \n",
    "        for i in range(len(matrix.T)):\n",
    "            X[column_names[i]] = matrix.T[i]\n",
    "            \n",
    "        return X"
   ]
  },
  {
   "cell_type": "code",
   "execution_count": 17,
   "id": "6a3a172a",
   "metadata": {
    "execution": {
     "iopub.execute_input": "2022-12-29T13:51:15.665976Z",
     "iopub.status.busy": "2022-12-29T13:51:15.665555Z",
     "iopub.status.idle": "2022-12-29T13:51:15.671844Z",
     "shell.execute_reply": "2022-12-29T13:51:15.670608Z"
    },
    "papermill": {
     "duration": 0.02296,
     "end_time": "2022-12-29T13:51:15.674502",
     "exception": false,
     "start_time": "2022-12-29T13:51:15.651542",
     "status": "completed"
    },
    "tags": []
   },
   "outputs": [],
   "source": [
    "class FeatureDropper(BaseEstimator, TransformerMixin):\n",
    "    \n",
    "    def fit(self, X , y=None):\n",
    "        return self\n",
    "    def transform(self, X):\n",
    "        return X.drop([\"Embarked\", 'Name', 'Ticket', 'Cabin','Sex','N'], axis = 1, errors='ignore')"
   ]
  },
  {
   "cell_type": "code",
   "execution_count": 18,
   "id": "25465b01",
   "metadata": {
    "execution": {
     "iopub.execute_input": "2022-12-29T13:51:15.701533Z",
     "iopub.status.busy": "2022-12-29T13:51:15.701129Z",
     "iopub.status.idle": "2022-12-29T13:51:15.709398Z",
     "shell.execute_reply": "2022-12-29T13:51:15.708329Z"
    },
    "papermill": {
     "duration": 0.024975,
     "end_time": "2022-12-29T13:51:15.712086",
     "exception": false,
     "start_time": "2022-12-29T13:51:15.687111",
     "status": "completed"
    },
    "tags": []
   },
   "outputs": [],
   "source": [
    "from sklearn.pipeline import Pipeline\n",
    "pipeline = Pipeline([(\"ageimputer\", AgeImputer()),\n",
    "                     (\"featureencoder\", FeatureEncoder()),\n",
    "                     (\"featuredropper\", FeatureDropper())])"
   ]
  },
  {
   "cell_type": "code",
   "execution_count": 19,
   "id": "47ea287d",
   "metadata": {
    "execution": {
     "iopub.execute_input": "2022-12-29T13:51:15.739362Z",
     "iopub.status.busy": "2022-12-29T13:51:15.738929Z",
     "iopub.status.idle": "2022-12-29T13:51:15.756597Z",
     "shell.execute_reply": "2022-12-29T13:51:15.755590Z"
    },
    "papermill": {
     "duration": 0.034133,
     "end_time": "2022-12-29T13:51:15.759024",
     "exception": false,
     "start_time": "2022-12-29T13:51:15.724891",
     "status": "completed"
    },
    "tags": []
   },
   "outputs": [],
   "source": [
    "strat_train_set = pipeline.fit_transform(strat_train_set)"
   ]
  },
  {
   "cell_type": "code",
   "execution_count": 20,
   "id": "c7dfc437",
   "metadata": {
    "execution": {
     "iopub.execute_input": "2022-12-29T13:51:15.786658Z",
     "iopub.status.busy": "2022-12-29T13:51:15.786191Z",
     "iopub.status.idle": "2022-12-29T13:51:15.811600Z",
     "shell.execute_reply": "2022-12-29T13:51:15.810352Z"
    },
    "papermill": {
     "duration": 0.042312,
     "end_time": "2022-12-29T13:51:15.814339",
     "exception": false,
     "start_time": "2022-12-29T13:51:15.772027",
     "status": "completed"
    },
    "tags": []
   },
   "outputs": [
    {
     "data": {
      "text/html": [
       "<div>\n",
       "<style scoped>\n",
       "    .dataframe tbody tr th:only-of-type {\n",
       "        vertical-align: middle;\n",
       "    }\n",
       "\n",
       "    .dataframe tbody tr th {\n",
       "        vertical-align: top;\n",
       "    }\n",
       "\n",
       "    .dataframe thead th {\n",
       "        text-align: right;\n",
       "    }\n",
       "</style>\n",
       "<table border=\"1\" class=\"dataframe\">\n",
       "  <thead>\n",
       "    <tr style=\"text-align: right;\">\n",
       "      <th></th>\n",
       "      <th>PassengerId</th>\n",
       "      <th>Survived</th>\n",
       "      <th>Pclass</th>\n",
       "      <th>Age</th>\n",
       "      <th>SibSp</th>\n",
       "      <th>Parch</th>\n",
       "      <th>Fare</th>\n",
       "      <th>C</th>\n",
       "      <th>S</th>\n",
       "      <th>Q</th>\n",
       "      <th>Female</th>\n",
       "      <th>Male</th>\n",
       "    </tr>\n",
       "  </thead>\n",
       "  <tbody>\n",
       "    <tr>\n",
       "      <th>887</th>\n",
       "      <td>888</td>\n",
       "      <td>1</td>\n",
       "      <td>1</td>\n",
       "      <td>19.000000</td>\n",
       "      <td>0</td>\n",
       "      <td>0</td>\n",
       "      <td>30.0000</td>\n",
       "      <td>0.0</td>\n",
       "      <td>0.0</td>\n",
       "      <td>1.0</td>\n",
       "      <td>1.0</td>\n",
       "      <td>0.0</td>\n",
       "    </tr>\n",
       "    <tr>\n",
       "      <th>401</th>\n",
       "      <td>402</td>\n",
       "      <td>0</td>\n",
       "      <td>3</td>\n",
       "      <td>26.000000</td>\n",
       "      <td>0</td>\n",
       "      <td>0</td>\n",
       "      <td>8.0500</td>\n",
       "      <td>0.0</td>\n",
       "      <td>0.0</td>\n",
       "      <td>1.0</td>\n",
       "      <td>0.0</td>\n",
       "      <td>1.0</td>\n",
       "    </tr>\n",
       "    <tr>\n",
       "      <th>647</th>\n",
       "      <td>648</td>\n",
       "      <td>1</td>\n",
       "      <td>1</td>\n",
       "      <td>56.000000</td>\n",
       "      <td>0</td>\n",
       "      <td>0</td>\n",
       "      <td>35.5000</td>\n",
       "      <td>1.0</td>\n",
       "      <td>0.0</td>\n",
       "      <td>0.0</td>\n",
       "      <td>0.0</td>\n",
       "      <td>1.0</td>\n",
       "    </tr>\n",
       "    <tr>\n",
       "      <th>81</th>\n",
       "      <td>82</td>\n",
       "      <td>1</td>\n",
       "      <td>3</td>\n",
       "      <td>29.000000</td>\n",
       "      <td>0</td>\n",
       "      <td>0</td>\n",
       "      <td>9.5000</td>\n",
       "      <td>0.0</td>\n",
       "      <td>0.0</td>\n",
       "      <td>1.0</td>\n",
       "      <td>0.0</td>\n",
       "      <td>1.0</td>\n",
       "    </tr>\n",
       "    <tr>\n",
       "      <th>59</th>\n",
       "      <td>60</td>\n",
       "      <td>0</td>\n",
       "      <td>3</td>\n",
       "      <td>11.000000</td>\n",
       "      <td>5</td>\n",
       "      <td>2</td>\n",
       "      <td>46.9000</td>\n",
       "      <td>0.0</td>\n",
       "      <td>0.0</td>\n",
       "      <td>1.0</td>\n",
       "      <td>0.0</td>\n",
       "      <td>1.0</td>\n",
       "    </tr>\n",
       "    <tr>\n",
       "      <th>...</th>\n",
       "      <td>...</td>\n",
       "      <td>...</td>\n",
       "      <td>...</td>\n",
       "      <td>...</td>\n",
       "      <td>...</td>\n",
       "      <td>...</td>\n",
       "      <td>...</td>\n",
       "      <td>...</td>\n",
       "      <td>...</td>\n",
       "      <td>...</td>\n",
       "      <td>...</td>\n",
       "      <td>...</td>\n",
       "    </tr>\n",
       "    <tr>\n",
       "      <th>29</th>\n",
       "      <td>30</td>\n",
       "      <td>0</td>\n",
       "      <td>3</td>\n",
       "      <td>30.867241</td>\n",
       "      <td>0</td>\n",
       "      <td>0</td>\n",
       "      <td>7.8958</td>\n",
       "      <td>0.0</td>\n",
       "      <td>0.0</td>\n",
       "      <td>1.0</td>\n",
       "      <td>0.0</td>\n",
       "      <td>1.0</td>\n",
       "    </tr>\n",
       "    <tr>\n",
       "      <th>175</th>\n",
       "      <td>176</td>\n",
       "      <td>0</td>\n",
       "      <td>3</td>\n",
       "      <td>18.000000</td>\n",
       "      <td>1</td>\n",
       "      <td>1</td>\n",
       "      <td>7.8542</td>\n",
       "      <td>0.0</td>\n",
       "      <td>0.0</td>\n",
       "      <td>1.0</td>\n",
       "      <td>0.0</td>\n",
       "      <td>1.0</td>\n",
       "    </tr>\n",
       "    <tr>\n",
       "      <th>703</th>\n",
       "      <td>704</td>\n",
       "      <td>0</td>\n",
       "      <td>3</td>\n",
       "      <td>25.000000</td>\n",
       "      <td>0</td>\n",
       "      <td>0</td>\n",
       "      <td>7.7417</td>\n",
       "      <td>0.0</td>\n",
       "      <td>1.0</td>\n",
       "      <td>0.0</td>\n",
       "      <td>0.0</td>\n",
       "      <td>1.0</td>\n",
       "    </tr>\n",
       "    <tr>\n",
       "      <th>501</th>\n",
       "      <td>502</td>\n",
       "      <td>0</td>\n",
       "      <td>3</td>\n",
       "      <td>21.000000</td>\n",
       "      <td>0</td>\n",
       "      <td>0</td>\n",
       "      <td>7.7500</td>\n",
       "      <td>0.0</td>\n",
       "      <td>1.0</td>\n",
       "      <td>0.0</td>\n",
       "      <td>1.0</td>\n",
       "      <td>0.0</td>\n",
       "    </tr>\n",
       "    <tr>\n",
       "      <th>277</th>\n",
       "      <td>278</td>\n",
       "      <td>0</td>\n",
       "      <td>2</td>\n",
       "      <td>30.867241</td>\n",
       "      <td>0</td>\n",
       "      <td>0</td>\n",
       "      <td>0.0000</td>\n",
       "      <td>0.0</td>\n",
       "      <td>0.0</td>\n",
       "      <td>1.0</td>\n",
       "      <td>0.0</td>\n",
       "      <td>1.0</td>\n",
       "    </tr>\n",
       "  </tbody>\n",
       "</table>\n",
       "<p>178 rows × 12 columns</p>\n",
       "</div>"
      ],
      "text/plain": [
       "     PassengerId  Survived  Pclass        Age  SibSp  Parch     Fare    C  \\\n",
       "887          888         1       1  19.000000      0      0  30.0000  0.0   \n",
       "401          402         0       3  26.000000      0      0   8.0500  0.0   \n",
       "647          648         1       1  56.000000      0      0  35.5000  1.0   \n",
       "81            82         1       3  29.000000      0      0   9.5000  0.0   \n",
       "59            60         0       3  11.000000      5      2  46.9000  0.0   \n",
       "..           ...       ...     ...        ...    ...    ...      ...  ...   \n",
       "29            30         0       3  30.867241      0      0   7.8958  0.0   \n",
       "175          176         0       3  18.000000      1      1   7.8542  0.0   \n",
       "703          704         0       3  25.000000      0      0   7.7417  0.0   \n",
       "501          502         0       3  21.000000      0      0   7.7500  0.0   \n",
       "277          278         0       2  30.867241      0      0   0.0000  0.0   \n",
       "\n",
       "       S    Q  Female  Male  \n",
       "887  0.0  1.0     1.0   0.0  \n",
       "401  0.0  1.0     0.0   1.0  \n",
       "647  0.0  0.0     0.0   1.0  \n",
       "81   0.0  1.0     0.0   1.0  \n",
       "59   0.0  1.0     0.0   1.0  \n",
       "..   ...  ...     ...   ...  \n",
       "29   0.0  1.0     0.0   1.0  \n",
       "175  0.0  1.0     0.0   1.0  \n",
       "703  1.0  0.0     0.0   1.0  \n",
       "501  1.0  0.0     1.0   0.0  \n",
       "277  0.0  1.0     0.0   1.0  \n",
       "\n",
       "[178 rows x 12 columns]"
      ]
     },
     "execution_count": 20,
     "metadata": {},
     "output_type": "execute_result"
    }
   ],
   "source": [
    "strat_train_set"
   ]
  },
  {
   "cell_type": "code",
   "execution_count": 21,
   "id": "f1e66db9",
   "metadata": {
    "execution": {
     "iopub.execute_input": "2022-12-29T13:51:15.842865Z",
     "iopub.status.busy": "2022-12-29T13:51:15.842447Z",
     "iopub.status.idle": "2022-12-29T13:51:15.856343Z",
     "shell.execute_reply": "2022-12-29T13:51:15.854958Z"
    },
    "papermill": {
     "duration": 0.03164,
     "end_time": "2022-12-29T13:51:15.859480",
     "exception": false,
     "start_time": "2022-12-29T13:51:15.827840",
     "status": "completed"
    },
    "tags": []
   },
   "outputs": [
    {
     "name": "stdout",
     "output_type": "stream",
     "text": [
      "<class 'pandas.core.frame.DataFrame'>\n",
      "Int64Index: 178 entries, 887 to 277\n",
      "Data columns (total 12 columns):\n",
      " #   Column       Non-Null Count  Dtype  \n",
      "---  ------       --------------  -----  \n",
      " 0   PassengerId  178 non-null    int64  \n",
      " 1   Survived     178 non-null    int64  \n",
      " 2   Pclass       178 non-null    int64  \n",
      " 3   Age          178 non-null    float64\n",
      " 4   SibSp        178 non-null    int64  \n",
      " 5   Parch        178 non-null    int64  \n",
      " 6   Fare         178 non-null    float64\n",
      " 7   C            178 non-null    float64\n",
      " 8   S            178 non-null    float64\n",
      " 9   Q            178 non-null    float64\n",
      " 10  Female       178 non-null    float64\n",
      " 11  Male         178 non-null    float64\n",
      "dtypes: float64(7), int64(5)\n",
      "memory usage: 18.1 KB\n"
     ]
    }
   ],
   "source": [
    "strat_train_set.info()"
   ]
  },
  {
   "cell_type": "code",
   "execution_count": 22,
   "id": "9a3918f4",
   "metadata": {
    "execution": {
     "iopub.execute_input": "2022-12-29T13:51:15.888805Z",
     "iopub.status.busy": "2022-12-29T13:51:15.888347Z",
     "iopub.status.idle": "2022-12-29T13:51:15.899830Z",
     "shell.execute_reply": "2022-12-29T13:51:15.898956Z"
    },
    "papermill": {
     "duration": 0.028436,
     "end_time": "2022-12-29T13:51:15.902132",
     "exception": false,
     "start_time": "2022-12-29T13:51:15.873696",
     "status": "completed"
    },
    "tags": []
   },
   "outputs": [],
   "source": [
    "from sklearn.preprocessing import StandardScaler\n",
    "\n",
    "X = strat_train_set.drop(['Survived'], axis=1)\n",
    "y = strat_train_set['Survived']\n",
    "\n",
    "scaler= StandardScaler()\n",
    "X_data = scaler.fit_transform(X)\n",
    "y_data = y.to_numpy()"
   ]
  },
  {
   "cell_type": "markdown",
   "id": "e7cb4b71",
   "metadata": {
    "papermill": {
     "duration": 0.013613,
     "end_time": "2022-12-29T13:51:15.929098",
     "exception": false,
     "start_time": "2022-12-29T13:51:15.915485",
     "status": "completed"
    },
    "tags": []
   },
   "source": [
    "**MACHINE LEARNING MODEL**"
   ]
  },
  {
   "cell_type": "code",
   "execution_count": 23,
   "id": "ba525c43",
   "metadata": {
    "execution": {
     "iopub.execute_input": "2022-12-29T13:51:15.957882Z",
     "iopub.status.busy": "2022-12-29T13:51:15.957446Z",
     "iopub.status.idle": "2022-12-29T13:51:51.787086Z",
     "shell.execute_reply": "2022-12-29T13:51:51.785888Z"
    },
    "papermill": {
     "duration": 35.859868,
     "end_time": "2022-12-29T13:51:51.802624",
     "exception": false,
     "start_time": "2022-12-29T13:51:15.942756",
     "status": "completed"
    },
    "tags": []
   },
   "outputs": [
    {
     "data": {
      "text/plain": [
       "GridSearchCV(cv=3, estimator=RandomForestClassifier(),\n",
       "             param_grid=[{'max_depth': [None, 5, 10],\n",
       "                          'min_samples_split': [2, 3, 4],\n",
       "                          'n_estimators': [10, 100, 200, 500]}],\n",
       "             return_train_score=True, scoring='accuracy')"
      ]
     },
     "execution_count": 23,
     "metadata": {},
     "output_type": "execute_result"
    }
   ],
   "source": [
    "from sklearn.ensemble import RandomForestClassifier\n",
    "from sklearn.model_selection import GridSearchCV\n",
    "\n",
    "clf = RandomForestClassifier()\n",
    "param_grid = [\n",
    "    {\"n_estimators\" : [10,100,200,500], \"max_depth\": [None, 5,10], \"min_samples_split\": [2,3,4]}\n",
    "]\n",
    "grid_search = GridSearchCV(clf, param_grid, cv=3, scoring='accuracy', return_train_score=True)\n",
    "grid_search .fit(X_data, y_data)"
   ]
  },
  {
   "cell_type": "code",
   "execution_count": 24,
   "id": "aede4640",
   "metadata": {
    "execution": {
     "iopub.execute_input": "2022-12-29T13:51:51.832350Z",
     "iopub.status.busy": "2022-12-29T13:51:51.831929Z",
     "iopub.status.idle": "2022-12-29T13:51:51.836857Z",
     "shell.execute_reply": "2022-12-29T13:51:51.835643Z"
    },
    "papermill": {
     "duration": 0.024124,
     "end_time": "2022-12-29T13:51:51.839989",
     "exception": false,
     "start_time": "2022-12-29T13:51:51.815865",
     "status": "completed"
    },
    "tags": []
   },
   "outputs": [],
   "source": [
    "final_clf = grid_search.best_estimator_"
   ]
  },
  {
   "cell_type": "code",
   "execution_count": 25,
   "id": "80b61043",
   "metadata": {
    "execution": {
     "iopub.execute_input": "2022-12-29T13:51:51.869203Z",
     "iopub.status.busy": "2022-12-29T13:51:51.868813Z",
     "iopub.status.idle": "2022-12-29T13:51:51.876579Z",
     "shell.execute_reply": "2022-12-29T13:51:51.875098Z"
    },
    "papermill": {
     "duration": 0.025109,
     "end_time": "2022-12-29T13:51:51.878858",
     "exception": false,
     "start_time": "2022-12-29T13:51:51.853749",
     "status": "completed"
    },
    "tags": []
   },
   "outputs": [
    {
     "data": {
      "text/plain": [
       "RandomForestClassifier(min_samples_split=3, n_estimators=200)"
      ]
     },
     "execution_count": 25,
     "metadata": {},
     "output_type": "execute_result"
    }
   ],
   "source": [
    "final_clf"
   ]
  },
  {
   "cell_type": "code",
   "execution_count": 26,
   "id": "e3a30940",
   "metadata": {
    "execution": {
     "iopub.execute_input": "2022-12-29T13:51:51.908099Z",
     "iopub.status.busy": "2022-12-29T13:51:51.906991Z",
     "iopub.status.idle": "2022-12-29T13:51:51.924386Z",
     "shell.execute_reply": "2022-12-29T13:51:51.923225Z"
    },
    "papermill": {
     "duration": 0.034595,
     "end_time": "2022-12-29T13:51:51.927026",
     "exception": false,
     "start_time": "2022-12-29T13:51:51.892431",
     "status": "completed"
    },
    "tags": []
   },
   "outputs": [],
   "source": [
    "strat_test_set = pipeline.fit_transform(strat_test_set)"
   ]
  },
  {
   "cell_type": "code",
   "execution_count": 27,
   "id": "c3cf91f5",
   "metadata": {
    "execution": {
     "iopub.execute_input": "2022-12-29T13:51:51.955818Z",
     "iopub.status.busy": "2022-12-29T13:51:51.955405Z",
     "iopub.status.idle": "2022-12-29T13:51:51.966719Z",
     "shell.execute_reply": "2022-12-29T13:51:51.965763Z"
    },
    "papermill": {
     "duration": 0.0285,
     "end_time": "2022-12-29T13:51:51.969059",
     "exception": false,
     "start_time": "2022-12-29T13:51:51.940559",
     "status": "completed"
    },
    "tags": []
   },
   "outputs": [],
   "source": [
    "X_test = strat_test_set.drop(['Survived'], axis=1)\n",
    "y_test = strat_test_set['Survived']\n",
    "\n",
    "scaler = StandardScaler()\n",
    "X_data_test = scaler.fit_transform(X_test)\n",
    "y_data_test = y_test.to_numpy()"
   ]
  },
  {
   "cell_type": "code",
   "execution_count": 28,
   "id": "81ac3cb8",
   "metadata": {
    "execution": {
     "iopub.execute_input": "2022-12-29T13:51:51.999261Z",
     "iopub.status.busy": "2022-12-29T13:51:51.998333Z",
     "iopub.status.idle": "2022-12-29T13:51:52.053550Z",
     "shell.execute_reply": "2022-12-29T13:51:52.052653Z"
    },
    "papermill": {
     "duration": 0.072835,
     "end_time": "2022-12-29T13:51:52.055994",
     "exception": false,
     "start_time": "2022-12-29T13:51:51.983159",
     "status": "completed"
    },
    "tags": []
   },
   "outputs": [
    {
     "data": {
      "text/plain": [
       "0.7784011220196353"
      ]
     },
     "execution_count": 28,
     "metadata": {},
     "output_type": "execute_result"
    }
   ],
   "source": [
    "final_clf.score(X_data_test, y_data_test)"
   ]
  },
  {
   "cell_type": "code",
   "execution_count": 29,
   "id": "ac0b65c3",
   "metadata": {
    "execution": {
     "iopub.execute_input": "2022-12-29T13:51:52.088745Z",
     "iopub.status.busy": "2022-12-29T13:51:52.087632Z",
     "iopub.status.idle": "2022-12-29T13:51:52.107623Z",
     "shell.execute_reply": "2022-12-29T13:51:52.106512Z"
    },
    "papermill": {
     "duration": 0.038651,
     "end_time": "2022-12-29T13:51:52.110529",
     "exception": false,
     "start_time": "2022-12-29T13:51:52.071878",
     "status": "completed"
    },
    "tags": []
   },
   "outputs": [],
   "source": [
    "final_data = pipeline.fit_transform(df)"
   ]
  },
  {
   "cell_type": "code",
   "execution_count": 30,
   "id": "6c90dc2b",
   "metadata": {
    "execution": {
     "iopub.execute_input": "2022-12-29T13:51:52.141004Z",
     "iopub.status.busy": "2022-12-29T13:51:52.140566Z",
     "iopub.status.idle": "2022-12-29T13:51:52.167808Z",
     "shell.execute_reply": "2022-12-29T13:51:52.166656Z"
    },
    "papermill": {
     "duration": 0.045723,
     "end_time": "2022-12-29T13:51:52.170619",
     "exception": false,
     "start_time": "2022-12-29T13:51:52.124896",
     "status": "completed"
    },
    "tags": []
   },
   "outputs": [
    {
     "data": {
      "text/html": [
       "<div>\n",
       "<style scoped>\n",
       "    .dataframe tbody tr th:only-of-type {\n",
       "        vertical-align: middle;\n",
       "    }\n",
       "\n",
       "    .dataframe tbody tr th {\n",
       "        vertical-align: top;\n",
       "    }\n",
       "\n",
       "    .dataframe thead th {\n",
       "        text-align: right;\n",
       "    }\n",
       "</style>\n",
       "<table border=\"1\" class=\"dataframe\">\n",
       "  <thead>\n",
       "    <tr style=\"text-align: right;\">\n",
       "      <th></th>\n",
       "      <th>PassengerId</th>\n",
       "      <th>Survived</th>\n",
       "      <th>Pclass</th>\n",
       "      <th>Age</th>\n",
       "      <th>SibSp</th>\n",
       "      <th>Parch</th>\n",
       "      <th>Fare</th>\n",
       "      <th>C</th>\n",
       "      <th>S</th>\n",
       "      <th>Q</th>\n",
       "      <th>Female</th>\n",
       "      <th>Male</th>\n",
       "    </tr>\n",
       "  </thead>\n",
       "  <tbody>\n",
       "    <tr>\n",
       "      <th>0</th>\n",
       "      <td>1</td>\n",
       "      <td>0</td>\n",
       "      <td>3</td>\n",
       "      <td>22.000000</td>\n",
       "      <td>1</td>\n",
       "      <td>0</td>\n",
       "      <td>7.2500</td>\n",
       "      <td>0.0</td>\n",
       "      <td>0.0</td>\n",
       "      <td>1.0</td>\n",
       "      <td>0.0</td>\n",
       "      <td>1.0</td>\n",
       "    </tr>\n",
       "    <tr>\n",
       "      <th>1</th>\n",
       "      <td>2</td>\n",
       "      <td>1</td>\n",
       "      <td>1</td>\n",
       "      <td>38.000000</td>\n",
       "      <td>1</td>\n",
       "      <td>0</td>\n",
       "      <td>71.2833</td>\n",
       "      <td>1.0</td>\n",
       "      <td>0.0</td>\n",
       "      <td>0.0</td>\n",
       "      <td>1.0</td>\n",
       "      <td>0.0</td>\n",
       "    </tr>\n",
       "    <tr>\n",
       "      <th>2</th>\n",
       "      <td>3</td>\n",
       "      <td>1</td>\n",
       "      <td>3</td>\n",
       "      <td>26.000000</td>\n",
       "      <td>0</td>\n",
       "      <td>0</td>\n",
       "      <td>7.9250</td>\n",
       "      <td>0.0</td>\n",
       "      <td>0.0</td>\n",
       "      <td>1.0</td>\n",
       "      <td>1.0</td>\n",
       "      <td>0.0</td>\n",
       "    </tr>\n",
       "    <tr>\n",
       "      <th>3</th>\n",
       "      <td>4</td>\n",
       "      <td>1</td>\n",
       "      <td>1</td>\n",
       "      <td>35.000000</td>\n",
       "      <td>1</td>\n",
       "      <td>0</td>\n",
       "      <td>53.1000</td>\n",
       "      <td>0.0</td>\n",
       "      <td>0.0</td>\n",
       "      <td>1.0</td>\n",
       "      <td>1.0</td>\n",
       "      <td>0.0</td>\n",
       "    </tr>\n",
       "    <tr>\n",
       "      <th>4</th>\n",
       "      <td>5</td>\n",
       "      <td>0</td>\n",
       "      <td>3</td>\n",
       "      <td>35.000000</td>\n",
       "      <td>0</td>\n",
       "      <td>0</td>\n",
       "      <td>8.0500</td>\n",
       "      <td>0.0</td>\n",
       "      <td>0.0</td>\n",
       "      <td>1.0</td>\n",
       "      <td>0.0</td>\n",
       "      <td>1.0</td>\n",
       "    </tr>\n",
       "    <tr>\n",
       "      <th>...</th>\n",
       "      <td>...</td>\n",
       "      <td>...</td>\n",
       "      <td>...</td>\n",
       "      <td>...</td>\n",
       "      <td>...</td>\n",
       "      <td>...</td>\n",
       "      <td>...</td>\n",
       "      <td>...</td>\n",
       "      <td>...</td>\n",
       "      <td>...</td>\n",
       "      <td>...</td>\n",
       "      <td>...</td>\n",
       "    </tr>\n",
       "    <tr>\n",
       "      <th>886</th>\n",
       "      <td>887</td>\n",
       "      <td>0</td>\n",
       "      <td>2</td>\n",
       "      <td>27.000000</td>\n",
       "      <td>0</td>\n",
       "      <td>0</td>\n",
       "      <td>13.0000</td>\n",
       "      <td>0.0</td>\n",
       "      <td>0.0</td>\n",
       "      <td>1.0</td>\n",
       "      <td>0.0</td>\n",
       "      <td>1.0</td>\n",
       "    </tr>\n",
       "    <tr>\n",
       "      <th>887</th>\n",
       "      <td>888</td>\n",
       "      <td>1</td>\n",
       "      <td>1</td>\n",
       "      <td>19.000000</td>\n",
       "      <td>0</td>\n",
       "      <td>0</td>\n",
       "      <td>30.0000</td>\n",
       "      <td>0.0</td>\n",
       "      <td>0.0</td>\n",
       "      <td>1.0</td>\n",
       "      <td>1.0</td>\n",
       "      <td>0.0</td>\n",
       "    </tr>\n",
       "    <tr>\n",
       "      <th>888</th>\n",
       "      <td>889</td>\n",
       "      <td>0</td>\n",
       "      <td>3</td>\n",
       "      <td>29.699118</td>\n",
       "      <td>1</td>\n",
       "      <td>2</td>\n",
       "      <td>23.4500</td>\n",
       "      <td>0.0</td>\n",
       "      <td>0.0</td>\n",
       "      <td>1.0</td>\n",
       "      <td>1.0</td>\n",
       "      <td>0.0</td>\n",
       "    </tr>\n",
       "    <tr>\n",
       "      <th>889</th>\n",
       "      <td>890</td>\n",
       "      <td>1</td>\n",
       "      <td>1</td>\n",
       "      <td>26.000000</td>\n",
       "      <td>0</td>\n",
       "      <td>0</td>\n",
       "      <td>30.0000</td>\n",
       "      <td>1.0</td>\n",
       "      <td>0.0</td>\n",
       "      <td>0.0</td>\n",
       "      <td>0.0</td>\n",
       "      <td>1.0</td>\n",
       "    </tr>\n",
       "    <tr>\n",
       "      <th>890</th>\n",
       "      <td>891</td>\n",
       "      <td>0</td>\n",
       "      <td>3</td>\n",
       "      <td>32.000000</td>\n",
       "      <td>0</td>\n",
       "      <td>0</td>\n",
       "      <td>7.7500</td>\n",
       "      <td>0.0</td>\n",
       "      <td>1.0</td>\n",
       "      <td>0.0</td>\n",
       "      <td>0.0</td>\n",
       "      <td>1.0</td>\n",
       "    </tr>\n",
       "  </tbody>\n",
       "</table>\n",
       "<p>891 rows × 12 columns</p>\n",
       "</div>"
      ],
      "text/plain": [
       "     PassengerId  Survived  Pclass        Age  SibSp  Parch     Fare    C  \\\n",
       "0              1         0       3  22.000000      1      0   7.2500  0.0   \n",
       "1              2         1       1  38.000000      1      0  71.2833  1.0   \n",
       "2              3         1       3  26.000000      0      0   7.9250  0.0   \n",
       "3              4         1       1  35.000000      1      0  53.1000  0.0   \n",
       "4              5         0       3  35.000000      0      0   8.0500  0.0   \n",
       "..           ...       ...     ...        ...    ...    ...      ...  ...   \n",
       "886          887         0       2  27.000000      0      0  13.0000  0.0   \n",
       "887          888         1       1  19.000000      0      0  30.0000  0.0   \n",
       "888          889         0       3  29.699118      1      2  23.4500  0.0   \n",
       "889          890         1       1  26.000000      0      0  30.0000  1.0   \n",
       "890          891         0       3  32.000000      0      0   7.7500  0.0   \n",
       "\n",
       "       S    Q  Female  Male  \n",
       "0    0.0  1.0     0.0   1.0  \n",
       "1    0.0  0.0     1.0   0.0  \n",
       "2    0.0  1.0     1.0   0.0  \n",
       "3    0.0  1.0     1.0   0.0  \n",
       "4    0.0  1.0     0.0   1.0  \n",
       "..   ...  ...     ...   ...  \n",
       "886  0.0  1.0     0.0   1.0  \n",
       "887  0.0  1.0     1.0   0.0  \n",
       "888  0.0  1.0     1.0   0.0  \n",
       "889  0.0  0.0     0.0   1.0  \n",
       "890  1.0  0.0     0.0   1.0  \n",
       "\n",
       "[891 rows x 12 columns]"
      ]
     },
     "execution_count": 30,
     "metadata": {},
     "output_type": "execute_result"
    }
   ],
   "source": [
    "final_data"
   ]
  },
  {
   "cell_type": "code",
   "execution_count": 31,
   "id": "4ecaa0cd",
   "metadata": {
    "execution": {
     "iopub.execute_input": "2022-12-29T13:51:52.200932Z",
     "iopub.status.busy": "2022-12-29T13:51:52.200506Z",
     "iopub.status.idle": "2022-12-29T13:51:52.212437Z",
     "shell.execute_reply": "2022-12-29T13:51:52.211127Z"
    },
    "papermill": {
     "duration": 0.029989,
     "end_time": "2022-12-29T13:51:52.215049",
     "exception": false,
     "start_time": "2022-12-29T13:51:52.185060",
     "status": "completed"
    },
    "tags": []
   },
   "outputs": [],
   "source": [
    "X_final = final_data.drop(['Survived'], axis=1)\n",
    "y_final = final_data['Survived']\n",
    "\n",
    "X_data_final = scaler.fit_transform(X_final)\n",
    "y_data_final = y_final.to_numpy()"
   ]
  },
  {
   "cell_type": "code",
   "execution_count": 32,
   "id": "34e18a42",
   "metadata": {
    "execution": {
     "iopub.execute_input": "2022-12-29T13:51:52.244890Z",
     "iopub.status.busy": "2022-12-29T13:51:52.244486Z",
     "iopub.status.idle": "2022-12-29T13:52:38.976976Z",
     "shell.execute_reply": "2022-12-29T13:52:38.975246Z"
    },
    "papermill": {
     "duration": 46.763971,
     "end_time": "2022-12-29T13:52:38.993116",
     "exception": false,
     "start_time": "2022-12-29T13:51:52.229145",
     "status": "completed"
    },
    "tags": []
   },
   "outputs": [
    {
     "data": {
      "text/plain": [
       "GridSearchCV(cv=3, estimator=RandomForestClassifier(),\n",
       "             param_grid=[{'max_depth': [None, 5, 10],\n",
       "                          'min_samples_split': [2, 3, 4],\n",
       "                          'n_estimators': [10, 100, 200, 500]}],\n",
       "             return_train_score=True, scoring='accuracy')"
      ]
     },
     "execution_count": 32,
     "metadata": {},
     "output_type": "execute_result"
    }
   ],
   "source": [
    "prop_clf = RandomForestClassifier()\n",
    "\n",
    "param_grid = [\n",
    "        {\"n_estimators\" : [10,100,200,500], \"max_depth\": [None, 5,10], \"min_samples_split\": [2,3,4]}\n",
    "]\n",
    "grid_search = GridSearchCV(clf, param_grid, cv=3, scoring='accuracy', return_train_score=True)\n",
    "grid_search .fit(X_data_final, y_data_final)\n"
   ]
  },
  {
   "cell_type": "code",
   "execution_count": 33,
   "id": "cc79de14",
   "metadata": {
    "execution": {
     "iopub.execute_input": "2022-12-29T13:52:39.023127Z",
     "iopub.status.busy": "2022-12-29T13:52:39.022717Z",
     "iopub.status.idle": "2022-12-29T13:52:39.028196Z",
     "shell.execute_reply": "2022-12-29T13:52:39.026604Z"
    },
    "papermill": {
     "duration": 0.024026,
     "end_time": "2022-12-29T13:52:39.031163",
     "exception": false,
     "start_time": "2022-12-29T13:52:39.007137",
     "status": "completed"
    },
    "tags": []
   },
   "outputs": [],
   "source": [
    "prod_final_clf = grid_search.best_estimator_"
   ]
  },
  {
   "cell_type": "code",
   "execution_count": 34,
   "id": "7067495a",
   "metadata": {
    "execution": {
     "iopub.execute_input": "2022-12-29T13:52:39.061520Z",
     "iopub.status.busy": "2022-12-29T13:52:39.061060Z",
     "iopub.status.idle": "2022-12-29T13:52:39.073962Z",
     "shell.execute_reply": "2022-12-29T13:52:39.072763Z"
    },
    "papermill": {
     "duration": 0.031146,
     "end_time": "2022-12-29T13:52:39.076717",
     "exception": false,
     "start_time": "2022-12-29T13:52:39.045571",
     "status": "completed"
    },
    "tags": []
   },
   "outputs": [],
   "source": [
    "df_test = pd.read_csv('/kaggle/input/titanic/test.csv')"
   ]
  },
  {
   "cell_type": "code",
   "execution_count": 35,
   "id": "bd72dd2e",
   "metadata": {
    "execution": {
     "iopub.execute_input": "2022-12-29T13:52:39.106913Z",
     "iopub.status.busy": "2022-12-29T13:52:39.105962Z",
     "iopub.status.idle": "2022-12-29T13:52:39.122917Z",
     "shell.execute_reply": "2022-12-29T13:52:39.121682Z"
    },
    "papermill": {
     "duration": 0.035093,
     "end_time": "2022-12-29T13:52:39.125797",
     "exception": false,
     "start_time": "2022-12-29T13:52:39.090704",
     "status": "completed"
    },
    "tags": []
   },
   "outputs": [],
   "source": [
    "final_test_df  = pipeline.fit_transform(df_test)"
   ]
  },
  {
   "cell_type": "code",
   "execution_count": 36,
   "id": "b5e110de",
   "metadata": {
    "execution": {
     "iopub.execute_input": "2022-12-29T13:52:39.156060Z",
     "iopub.status.busy": "2022-12-29T13:52:39.155616Z",
     "iopub.status.idle": "2022-12-29T13:52:39.171924Z",
     "shell.execute_reply": "2022-12-29T13:52:39.170491Z"
    },
    "papermill": {
     "duration": 0.035061,
     "end_time": "2022-12-29T13:52:39.175019",
     "exception": false,
     "start_time": "2022-12-29T13:52:39.139958",
     "status": "completed"
    },
    "tags": []
   },
   "outputs": [
    {
     "name": "stdout",
     "output_type": "stream",
     "text": [
      "<class 'pandas.core.frame.DataFrame'>\n",
      "RangeIndex: 418 entries, 0 to 417\n",
      "Data columns (total 16 columns):\n",
      " #   Column       Non-Null Count  Dtype  \n",
      "---  ------       --------------  -----  \n",
      " 0   PassengerId  418 non-null    int64  \n",
      " 1   Pclass       418 non-null    int64  \n",
      " 2   Name         418 non-null    object \n",
      " 3   Sex          418 non-null    object \n",
      " 4   Age          418 non-null    float64\n",
      " 5   SibSp        418 non-null    int64  \n",
      " 6   Parch        418 non-null    int64  \n",
      " 7   Ticket       418 non-null    object \n",
      " 8   Fare         417 non-null    float64\n",
      " 9   Cabin        91 non-null     object \n",
      " 10  Embarked     418 non-null    object \n",
      " 11  C            418 non-null    float64\n",
      " 12  S            418 non-null    float64\n",
      " 13  Q            418 non-null    float64\n",
      " 14  Female       418 non-null    float64\n",
      " 15  Male         418 non-null    float64\n",
      "dtypes: float64(7), int64(4), object(5)\n",
      "memory usage: 52.4+ KB\n"
     ]
    }
   ],
   "source": [
    "df_test.info()"
   ]
  },
  {
   "cell_type": "code",
   "execution_count": 37,
   "id": "b3779c5f",
   "metadata": {
    "execution": {
     "iopub.execute_input": "2022-12-29T13:52:39.205394Z",
     "iopub.status.busy": "2022-12-29T13:52:39.204968Z",
     "iopub.status.idle": "2022-12-29T13:52:39.218720Z",
     "shell.execute_reply": "2022-12-29T13:52:39.217399Z"
    },
    "papermill": {
     "duration": 0.032287,
     "end_time": "2022-12-29T13:52:39.221344",
     "exception": false,
     "start_time": "2022-12-29T13:52:39.189057",
     "status": "completed"
    },
    "tags": []
   },
   "outputs": [],
   "source": [
    "X_final_test = final_test_df\n",
    "X_final_test = X_final_test.fillna(method=\"ffill\")\n",
    "\n",
    "X_data_final_test = scaler.fit_transform(X_final_test)"
   ]
  },
  {
   "cell_type": "code",
   "execution_count": 38,
   "id": "60f7919d",
   "metadata": {
    "execution": {
     "iopub.execute_input": "2022-12-29T13:52:39.254916Z",
     "iopub.status.busy": "2022-12-29T13:52:39.254172Z",
     "iopub.status.idle": "2022-12-29T13:52:39.279219Z",
     "shell.execute_reply": "2022-12-29T13:52:39.277714Z"
    },
    "papermill": {
     "duration": 0.045864,
     "end_time": "2022-12-29T13:52:39.282217",
     "exception": false,
     "start_time": "2022-12-29T13:52:39.236353",
     "status": "completed"
    },
    "tags": []
   },
   "outputs": [],
   "source": [
    "predictions = prod_final_clf.predict(X_data_final_test)"
   ]
  },
  {
   "cell_type": "code",
   "execution_count": 39,
   "id": "fbd6a466",
   "metadata": {
    "execution": {
     "iopub.execute_input": "2022-12-29T13:52:39.313104Z",
     "iopub.status.busy": "2022-12-29T13:52:39.312295Z",
     "iopub.status.idle": "2022-12-29T13:52:39.320749Z",
     "shell.execute_reply": "2022-12-29T13:52:39.319679Z"
    },
    "papermill": {
     "duration": 0.026404,
     "end_time": "2022-12-29T13:52:39.323206",
     "exception": false,
     "start_time": "2022-12-29T13:52:39.296802",
     "status": "completed"
    },
    "tags": []
   },
   "outputs": [
    {
     "data": {
      "text/plain": [
       "array([0, 1, 0, 0, 1, 0, 1, 0, 1, 0, 0, 0, 1, 0, 1, 1, 0, 0, 1, 1, 0, 0,\n",
       "       1, 0, 1, 0, 1, 0, 0, 0, 0, 0, 1, 0, 0, 0, 1, 1, 0, 0, 0, 0, 0, 1,\n",
       "       1, 0, 0, 0, 1, 1, 0, 0, 1, 1, 0, 0, 0, 0, 0, 1, 0, 0, 0, 1, 0, 1,\n",
       "       1, 0, 0, 1, 1, 0, 1, 0, 1, 0, 0, 1, 0, 1, 1, 0, 0, 0, 0, 0, 1, 1,\n",
       "       1, 1, 1, 0, 1, 0, 0, 0, 1, 0, 1, 0, 1, 0, 0, 0, 1, 0, 0, 0, 0, 0,\n",
       "       0, 1, 1, 1, 1, 0, 0, 1, 0, 1, 1, 0, 1, 0, 0, 1, 0, 1, 0, 0, 0, 0,\n",
       "       0, 0, 0, 0, 0, 0, 1, 0, 0, 1, 0, 0, 0, 0, 0, 0, 0, 0, 1, 0, 0, 1,\n",
       "       0, 0, 1, 1, 0, 1, 1, 1, 1, 0, 0, 1, 0, 0, 1, 1, 0, 0, 0, 0, 0, 1,\n",
       "       1, 0, 1, 1, 0, 0, 1, 0, 1, 0, 1, 0, 0, 0, 0, 0, 0, 0, 0, 0, 1, 1,\n",
       "       0, 0, 1, 1, 0, 1, 0, 0, 1, 0, 1, 0, 0, 0, 0, 1, 0, 0, 1, 0, 1, 0,\n",
       "       1, 0, 1, 0, 1, 1, 0, 1, 0, 0, 0, 1, 0, 0, 0, 0, 0, 0, 1, 1, 1, 1,\n",
       "       0, 0, 0, 0, 1, 0, 1, 1, 1, 0, 0, 0, 0, 0, 0, 0, 1, 0, 0, 0, 1, 1,\n",
       "       0, 0, 0, 0, 1, 0, 0, 0, 1, 1, 0, 1, 0, 0, 0, 0, 0, 1, 1, 1, 1, 0,\n",
       "       0, 0, 0, 0, 0, 1, 0, 0, 0, 0, 1, 0, 0, 0, 0, 0, 0, 0, 1, 1, 0, 1,\n",
       "       0, 0, 0, 0, 0, 1, 1, 1, 0, 0, 0, 0, 0, 0, 0, 0, 1, 0, 1, 0, 0, 0,\n",
       "       1, 0, 0, 1, 0, 0, 0, 0, 0, 0, 0, 0, 0, 1, 0, 1, 0, 1, 0, 1, 1, 0,\n",
       "       0, 0, 1, 0, 1, 0, 0, 1, 0, 1, 1, 0, 1, 0, 0, 1, 1, 0, 0, 1, 0, 0,\n",
       "       1, 1, 0, 0, 0, 0, 0, 0, 1, 1, 0, 1, 0, 0, 0, 0, 0, 1, 0, 0, 0, 1,\n",
       "       0, 1, 0, 0, 1, 0, 1, 0, 0, 0, 0, 0, 1, 1, 1, 1, 1, 0, 1, 0, 0, 0])"
      ]
     },
     "execution_count": 39,
     "metadata": {},
     "output_type": "execute_result"
    }
   ],
   "source": [
    "predictions"
   ]
  },
  {
   "cell_type": "code",
   "execution_count": 40,
   "id": "ab9de331",
   "metadata": {
    "execution": {
     "iopub.execute_input": "2022-12-29T13:52:39.354098Z",
     "iopub.status.busy": "2022-12-29T13:52:39.353243Z",
     "iopub.status.idle": "2022-12-29T13:52:39.364119Z",
     "shell.execute_reply": "2022-12-29T13:52:39.363099Z"
    },
    "papermill": {
     "duration": 0.029355,
     "end_time": "2022-12-29T13:52:39.366812",
     "exception": false,
     "start_time": "2022-12-29T13:52:39.337457",
     "status": "completed"
    },
    "tags": []
   },
   "outputs": [],
   "source": [
    "final_df = pd.DataFrame(df_test['PassengerId'])\n",
    "final_df['Survived'] = predictions\n",
    "final_df.to_csv('/kaggle/working/predictions.csv')"
   ]
  }
 ],
 "metadata": {
  "kernelspec": {
   "display_name": "Python 3",
   "language": "python",
   "name": "python3"
  },
  "language_info": {
   "codemirror_mode": {
    "name": "ipython",
    "version": 3
   },
   "file_extension": ".py",
   "mimetype": "text/x-python",
   "name": "python",
   "nbconvert_exporter": "python",
   "pygments_lexer": "ipython3",
   "version": "3.7.12"
  },
  "papermill": {
   "default_parameters": {},
   "duration": 98.173846,
   "end_time": "2022-12-29T13:52:40.204502",
   "environment_variables": {},
   "exception": null,
   "input_path": "__notebook__.ipynb",
   "output_path": "__notebook__.ipynb",
   "parameters": {},
   "start_time": "2022-12-29T13:51:02.030656",
   "version": "2.3.4"
  }
 },
 "nbformat": 4,
 "nbformat_minor": 5
}
